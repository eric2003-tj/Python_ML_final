{
 "cells": [
  {
   "cell_type": "code",
   "execution_count": 1,
   "metadata": {},
   "outputs": [],
   "source": [
    "import pandas as pd\n",
    "import matplotlib.pyplot as plt\n",
    "import seaborn as sns\n",
    "from scipy.stats import ttest_ind"
   ]
  },
  {
   "cell_type": "code",
   "execution_count": 2,
   "metadata": {},
   "outputs": [
    {
     "name": "stdout",
     "output_type": "stream",
     "text": [
      "['2025-03-01', '2025-03-02', '2025-03-03', '2025-03-04', '2025-03-05']\n",
      "總共事件日數: 77\n"
     ]
    }
   ],
   "source": [
    "target_dates = pd.date_range(start=\"2025-03-01\", end=\"2025-05-16\").strftime(\"%Y-%m-%d\").tolist()\n",
    "\n",
    "# 印出前幾天確認\n",
    "print(target_dates[:5])\n",
    "print(f\"總共事件日數: {len(target_dates)}\") "
   ]
  },
  {
   "cell_type": "code",
   "execution_count": 3,
   "metadata": {},
   "outputs": [
    {
     "name": "stdout",
     "output_type": "stream",
     "text": [
      "⚠️ 2025-03-01 樣本不足（before=0, after=4）\n",
      "⚠️ 2025-03-02 樣本不足（before=1, after=4）\n",
      "⚠️ 2025-05-15 樣本不足（before=4, after=1）\n",
      "⚠️ 2025-05-16 樣本不足（before=4, after=0）\n",
      "\n",
      "✅ 顯著事件列表（p < 0.05）:\n",
      "- 2025-03-19: t = -2.5500, p = 0.0435\n",
      "- 2025-04-16: t = 2.8657, p = 0.0286\n",
      "- 2025-05-07: t = -2.6965, p = 0.0357\n"
     ]
    }
   ],
   "source": [
    "# === 1. 讀取資料 ===\n",
    "df = pd.read_csv(\"daily_sentiment_features.csv\")\n",
    "df[\"date\"] = pd.to_datetime(df[\"date\"])\n",
    "\n",
    "# === 2. 設定事件日與觀察區間 ===\n",
    "#target_dates = [\"2025-03-11\", \"2025-04-02\", \"2025-05-12\"]\n",
    "window = 4 # 前後天數\n",
    "\n",
    "# === 3. 結果紀錄列表 ===\n",
    "significant_events = []\n",
    "\n",
    "# === 4. 遍歷每個事件日 ===\n",
    "for d in target_dates:\n",
    "    df[\"group\"] = None  # 重置分組欄位\n",
    "    center = pd.to_datetime(d)\n",
    "\n",
    "    # 標記 group\n",
    "    df.loc[(df[\"date\"] >= center - pd.Timedelta(days=window)) & \n",
    "           (df[\"date\"] < center), \"group\"] = f\"{d}_before\"\n",
    "    df.loc[(df[\"date\"] > center) & \n",
    "           (df[\"date\"] <= center + pd.Timedelta(days=window)), \"group\"] = f\"{d}_after\"\n",
    "\n",
    "    df_subset = df[df[\"group\"].notna()]\n",
    "\n",
    "    g1 = df_subset[df_subset[\"group\"] == f\"{d}_before\"][\"avg_sentiment_score\"]\n",
    "    g2 = df_subset[df_subset[\"group\"] == f\"{d}_after\"][\"avg_sentiment_score\"]\n",
    "\n",
    "    # 檢查樣本數是否足夠\n",
    "    if len(g1) >= 2 and len(g2) >= 2:\n",
    "        t_stat, p_val = ttest_ind(g1, g2)\n",
    "        #print(f\"🔍 {d} | t = {t_stat:.4f}, p = {p_val:.4f}\")\n",
    "\n",
    "        if p_val < 0.05:\n",
    "            significant_events.append((d, t_stat, p_val))\n",
    "    else:\n",
    "        print(f\"⚠️ {d} 樣本不足（before={len(g1)}, after={len(g2)}）\")\n",
    "\n",
    "# === 5. 列出顯著事件總表 ===\n",
    "if significant_events:\n",
    "    print(\"\\n✅ 顯著事件列表（p < 0.05）:\")\n",
    "    for d, t, p in significant_events:\n",
    "        print(f\"- {d}: t = {t:.4f}, p = {p:.4f}\")\n",
    "else:\n",
    "    print(\"\\n❌ 無顯著事件（p < 0.05）\")\n"
   ]
  },
  {
   "cell_type": "code",
   "execution_count": null,
   "metadata": {},
   "outputs": [],
   "source": []
  }
 ],
 "metadata": {
  "kernelspec": {
   "display_name": "qiskit",
   "language": "python",
   "name": "python3"
  },
  "language_info": {
   "codemirror_mode": {
    "name": "ipython",
    "version": 3
   },
   "file_extension": ".py",
   "mimetype": "text/x-python",
   "name": "python",
   "nbconvert_exporter": "python",
   "pygments_lexer": "ipython3",
   "version": "3.13.1"
  },
  "orig_nbformat": 4
 },
 "nbformat": 4,
 "nbformat_minor": 2
}
