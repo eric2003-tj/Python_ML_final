{
 "cells": [
  {
   "cell_type": "code",
   "execution_count": 5,
   "metadata": {},
   "outputs": [
    {
     "name": "stdout",
     "output_type": "stream",
     "text": [
      "Collecting langdetect\n",
      "  Downloading langdetect-1.0.9.tar.gz (981 kB)\n",
      "\u001b[2K     \u001b[90m━━━━━━━━━━━━━━━━━━━━━━━━━━━━━━━━━━━━━━━\u001b[0m \u001b[32m981.5/981.5 kB\u001b[0m \u001b[31m8.7 MB/s\u001b[0m eta \u001b[36m0:00:00\u001b[0m\n",
      "\u001b[?25h  Preparing metadata (setup.py) ... \u001b[?25ldone\n",
      "\u001b[?25hRequirement already satisfied: six in /Users/eric1026/qiskit/miniconda3/envs/qiskit/lib/python3.13/site-packages (from langdetect) (1.17.0)\n",
      "Building wheels for collected packages: langdetect\n",
      "  Building wheel for langdetect (setup.py) ... \u001b[?25ldone\n",
      "\u001b[?25h  Created wheel for langdetect: filename=langdetect-1.0.9-py3-none-any.whl size=993222 sha256=0903167296aa06e930a840cd61f910150f7a85f37b22f4230885422a3644378a\n",
      "  Stored in directory: /Users/eric1026/Library/Caches/pip/wheels/eb/87/25/2dddf1c94e1786054e25022ec5530bfed52bad86d882999c48\n",
      "Successfully built langdetect\n",
      "Installing collected packages: langdetect\n",
      "Successfully installed langdetect-1.0.9\n"
     ]
    }
   ],
   "source": [
    "!pip install langdetect"
   ]
  },
  {
   "cell_type": "code",
   "execution_count": 22,
   "metadata": {},
   "outputs": [
    {
     "name": "stdout",
     "output_type": "stream",
     "text": [
      "✅ 已過濾並儲存：tariff_data20250411.csv（剩 138 筆英文推文）\n",
      "✅ 已過濾並儲存：tariff_data20250405.csv（剩 140 筆英文推文）\n",
      "✅ 已過濾並儲存：tariff_data0307.csv（剩 207 筆英文推文）\n",
      "✅ 已過濾並儲存：tariff_data0313.csv（剩 172 筆英文推文）\n",
      "✅ 已過濾並儲存：tariff_data0312.csv（剩 50 筆英文推文）\n",
      "✅ 已過濾並儲存：tariff_data0306.csv（剩 196 筆英文推文）\n",
      "✅ 已過濾並儲存：tariff_data20250404.csv（剩 142 筆英文推文）\n",
      "✅ 已過濾並儲存：tariff_data20250410.csv（剩 146 筆英文推文）\n",
      "✅ 已過濾並儲存：tariff_data20250406.csv（剩 138 筆英文推文）\n",
      "✅ 已過濾並儲存：tariff_data20250412.csv（剩 142 筆英文推文）\n",
      "✅ 已過濾並儲存：tariff_data0310.csv（剩 202 筆英文推文）\n",
      "✅ 已過濾並儲存：tariff_data0304.csv（剩 215 筆英文推文）\n",
      "✅ 已過濾並儲存：tariff_data0305.csv（剩 216 筆英文推文）\n",
      "✅ 已過濾並儲存：tariff_data0311.csv（剩 160 筆英文推文）\n",
      "✅ 已過濾並儲存：tariff_data20250413.csv（剩 138 筆英文推文）\n",
      "✅ 已過濾並儲存：tariff_data20250407.csv（剩 138 筆英文推文）\n",
      "✅ 已過濾並儲存：tariff_data20250417.csv（剩 145 筆英文推文）\n",
      "✅ 已過濾並儲存：tariff_data0315.csv（剩 173 筆英文推文）\n",
      "✅ 已過濾並儲存：tariff_data0301.csv（剩 57 筆英文推文）\n",
      "✅ 已過濾並儲存：tariff_data0329.csv（剩 194 筆英文推文）\n",
      "✅ 已過濾並儲存：tariff_data0328.csv（剩 27 筆英文推文）\n",
      "✅ 已過濾並儲存：tariff_data0314.csv（剩 190 筆英文推文）\n",
      "✅ 已過濾並儲存：tariff_data20250416.csv（剩 146 筆英文推文）\n",
      "✅ 已過濾並儲存：tariff_data20250428.csv（剩 138 筆英文推文）\n",
      "✅ 已過濾並儲存：tariff_data20250414.csv（剩 97 筆英文推文）\n",
      "✅ 已過濾並儲存：tariff_data0302.csv（剩 150 筆英文推文）\n",
      "✅ 已過濾並儲存：tariff_data0316.csv（剩 157 筆英文推文）\n",
      "✅ 已過濾並儲存：tariff_data0317.csv（剩 187 筆英文推文）\n",
      "✅ 已過濾並儲存：tariff_data0303.csv（剩 205 筆英文推文）\n",
      "✅ 已過濾並儲存：tariff_data20250415.csv（剩 130 筆英文推文）\n",
      "✅ 已過濾並儲存：tariff_data20250429.csv（剩 128 筆英文推文）\n",
      "✅ 已過濾並儲存：tariff_data0402.csv（剩 29 筆英文推文）\n",
      "✅ 已過濾並儲存：tariff_data0403.csv（剩 143 筆英文推文）\n",
      "✅ 已過濾並儲存：tariff_data0401.csv（剩 209 筆英文推文）\n",
      "✅ 已過濾並儲存：tariff_data20250430.csv（剩 143 筆英文推文）\n",
      "✅ 已過濾並儲存：tariff_data20250424.csv（剩 144 筆英文推文）\n",
      "✅ 已過濾並儲存：tariff_data20250418.csv（剩 136 筆英文推文）\n",
      "✅ 已過濾並儲存：tariff_data0326.csv（剩 30 筆英文推文）\n",
      "✅ 已過濾並儲存：tariff_data0327.csv（剩 195 筆英文推文）\n",
      "✅ 已過濾並儲存：tariff_data20250419.csv（剩 129 筆英文推文）\n",
      "✅ 已過濾並儲存：tariff_data20250425.csv（剩 151 筆英文推文）\n",
      "✅ 已過濾並儲存：tariff_data20250427.csv（剩 123 筆英文推文）\n",
      "✅ 已過濾並儲存：tariff_data0319.csv（剩 56 筆英文推文）\n",
      "✅ 已過濾並儲存：tariff_data0331.csv（剩 207 筆英文推文）\n",
      "✅ 已過濾並儲存：tariff_data0325.csv（剩 207 筆英文推文）\n",
      "✅ 已過濾並儲存：tariff_data0324.csv（剩 206 筆英文推文）\n",
      "✅ 已過濾並儲存：tariff_data0330.csv（剩 192 筆英文推文）\n",
      "✅ 已過濾並儲存：tariff_data0318.csv（剩 115 筆英文推文）\n",
      "✅ 已過濾並儲存：tariff_data20250426.csv（剩 139 筆英文推文）\n",
      "✅ 已過濾並儲存：tariff_data20250422.csv（剩 143 筆英文推文）\n",
      "✅ 已過濾並儲存：tariff_data0320.csv（剩 76 筆英文推文）\n",
      "✅ 已過濾並儲存：tariff_data0308.csv（剩 84 筆英文推文）\n",
      "✅ 已過濾並儲存：tariff_data0309.csv（剩 177 筆英文推文）\n",
      "✅ 已過濾並儲存：tariff_data0321.csv（剩 201 筆英文推文）\n",
      "✅ 已過濾並儲存：tariff_data20250423.csv（剩 141 筆英文推文）\n",
      "✅ 已過濾並儲存：tariff_data20250409.csv（剩 148 筆英文推文）\n",
      "✅ 已過濾並儲存：tariff_data20250421.csv（剩 145 筆英文推文）\n",
      "✅ 已過濾並儲存：tariff_data0323.csv（剩 203 筆英文推文）\n",
      "✅ 已過濾並儲存：tariff_data0322.csv（剩 212 筆英文推文）\n",
      "✅ 已過濾並儲存：tariff_data20250420.csv（剩 93 筆英文推文）\n",
      "✅ 已過濾並儲存：tariff_data20250408.csv（剩 92 筆英文推文）\n"
     ]
    }
   ],
   "source": [
    "import os\n",
    "import pandas as pd\n",
    "from langdetect import detect, DetectorFactory\n",
    "\n",
    "# 為了穩定性（避免 langdetect 隨機性）\n",
    "DetectorFactory.seed = 0\n",
    "\n",
    "# === 設定資料夾 ===\n",
    "folder_path = \"tariff_data\"\n",
    "\n",
    "# === 建立一個新資料夾儲存過濾後的結果 ===\n",
    "filtered_folder = \"tariff_data_en\"\n",
    "os.makedirs(filtered_folder, exist_ok=True)\n",
    "\n",
    "# === 遍歷所有 csv 檔案並過濾非英文推文 ===\n",
    "for filename in os.listdir(folder_path):\n",
    "    if filename.endswith(\".csv\"):\n",
    "        file_path = os.path.join(folder_path, filename)\n",
    "        try:\n",
    "            df = pd.read_csv(file_path)\n",
    "\n",
    "            def is_english(text):\n",
    "                try:\n",
    "                    return detect(str(text)) == 'en'\n",
    "                except:\n",
    "                    return False\n",
    "\n",
    "            df_en = df[df['Tweet Content'].apply(is_english)]\n",
    "            output_path = os.path.join(filtered_folder, filename)\n",
    "            df_en.to_csv(output_path, index=False, encoding='utf-8')\n",
    "            print(f\"✅ 已過濾並儲存：{filename}（剩 {len(df_en)} 筆英文推文）\")\n",
    "        except Exception as e:\n",
    "            print(f\"❌ 錯誤處理 {filename}：{e}\")\n"
   ]
  },
  {
   "cell_type": "code",
   "execution_count": 23,
   "metadata": {},
   "outputs": [
    {
     "name": "stdout",
     "output_type": "stream",
     "text": [
      "✅ 已讀取：tariff_data20250411.csv（138 筆）\n",
      "✅ 已讀取：tariff_data20250405.csv（140 筆）\n",
      "✅ 已讀取：tariff_data0307.csv（207 筆）\n",
      "✅ 已讀取：tariff_data0313.csv（172 筆）\n",
      "✅ 已讀取：tariff_data0312.csv（50 筆）\n",
      "✅ 已讀取：tariff_data0306.csv（196 筆）\n",
      "✅ 已讀取：tariff_data20250404.csv（142 筆）\n",
      "✅ 已讀取：tariff_data20250410.csv（146 筆）\n",
      "✅ 已讀取：tariff_data20250406.csv（138 筆）\n",
      "✅ 已讀取：tariff_data20250412.csv（142 筆）\n",
      "✅ 已讀取：tariff_data0310.csv（202 筆）\n",
      "✅ 已讀取：tariff_data0304.csv（215 筆）\n",
      "✅ 已讀取：tariff_data0305.csv（216 筆）\n",
      "✅ 已讀取：tariff_data0311.csv（160 筆）\n",
      "✅ 已讀取：tariff_data20250413.csv（138 筆）\n",
      "✅ 已讀取：tariff_data20250407.csv（138 筆）\n",
      "✅ 已讀取：tariff_data20250417.csv（145 筆）\n",
      "✅ 已讀取：tariff_data0315.csv（173 筆）\n",
      "✅ 已讀取：tariff_data0301.csv（57 筆）\n",
      "✅ 已讀取：tariff_data0329.csv（194 筆）\n",
      "✅ 已讀取：tariff_data0328.csv（27 筆）\n",
      "✅ 已讀取：tariff_data0314.csv（190 筆）\n",
      "✅ 已讀取：tariff_data20250416.csv（146 筆）\n",
      "✅ 已讀取：tariff_data20250428.csv（138 筆）\n",
      "✅ 已讀取：tariff_data20250414.csv（97 筆）\n",
      "✅ 已讀取：tariff_data0302.csv（150 筆）\n",
      "✅ 已讀取：tariff_data0316.csv（157 筆）\n",
      "✅ 已讀取：tariff_data0317.csv（187 筆）\n",
      "✅ 已讀取：tariff_data0303.csv（205 筆）\n",
      "✅ 已讀取：tariff_data20250415.csv（130 筆）\n",
      "✅ 已讀取：tariff_data20250429.csv（128 筆）\n",
      "✅ 已讀取：tariff_data0402.csv（29 筆）\n",
      "✅ 已讀取：tariff_data0403.csv（143 筆）\n",
      "✅ 已讀取：tariff_data0401.csv（209 筆）\n",
      "✅ 已讀取：tariff_data20250430.csv（143 筆）\n",
      "✅ 已讀取：tariff_data20250424.csv（144 筆）\n",
      "✅ 已讀取：tariff_data20250418.csv（136 筆）\n",
      "✅ 已讀取：tariff_data0326.csv（30 筆）\n",
      "✅ 已讀取：tariff_data0327.csv（195 筆）\n",
      "✅ 已讀取：tariff_data20250419.csv（129 筆）\n",
      "✅ 已讀取：tariff_data20250425.csv（151 筆）\n",
      "✅ 已讀取：tariff_data20250427.csv（123 筆）\n",
      "✅ 已讀取：tariff_data0319.csv（56 筆）\n",
      "✅ 已讀取：tariff_data0331.csv（207 筆）\n",
      "✅ 已讀取：tariff_data0325.csv（207 筆）\n",
      "✅ 已讀取：tariff_data0324.csv（206 筆）\n",
      "✅ 已讀取：tariff_data0330.csv（192 筆）\n",
      "✅ 已讀取：tariff_data0318.csv（115 筆）\n",
      "✅ 已讀取：tariff_data20250426.csv（139 筆）\n",
      "✅ 已讀取：tariff_data20250422.csv（143 筆）\n",
      "✅ 已讀取：tariff_data0320.csv（76 筆）\n",
      "✅ 已讀取：tariff_data0308.csv（84 筆）\n",
      "✅ 已讀取：tariff_data0309.csv（177 筆）\n",
      "✅ 已讀取：tariff_data0321.csv（201 筆）\n",
      "✅ 已讀取：tariff_data20250423.csv（141 筆）\n",
      "✅ 已讀取：tariff_data20250409.csv（148 筆）\n",
      "✅ 已讀取：tariff_data20250421.csv（145 筆）\n",
      "✅ 已讀取：tariff_data0323.csv（203 筆）\n",
      "✅ 已讀取：tariff_data0322.csv（212 筆）\n",
      "✅ 已讀取：tariff_data20250420.csv（93 筆）\n",
      "✅ 已讀取：tariff_data20250408.csv（92 筆）\n",
      "\n",
      "📊 共讀取 61 個 CSV 檔案\n"
     ]
    }
   ],
   "source": [
    "import os\n",
    "import pandas as pd\n",
    "\n",
    "# === 設定包含所有 CSV 的資料夾 ===\n",
    "folder_path = \"tariff_data_en\"  # 請根據你的實際路徑修改\n",
    "\n",
    "# === 儲存每個檔案讀進來的 DataFrame ===\n",
    "all_dfs = []\n",
    "\n",
    "# === 逐一讀取檔案 ===\n",
    "for filename in os.listdir(folder_path):\n",
    "    if filename.endswith(\".csv\"):\n",
    "        file_path = os.path.join(folder_path, filename)\n",
    "        try:\n",
    "            df = pd.read_csv(file_path)\n",
    "            all_dfs.append(df)\n",
    "            print(f\"✅ 已讀取：{filename}（{len(df)} 筆）\")\n",
    "        except Exception as e:\n",
    "            print(f\"❌ 錯誤讀取 {filename}：{e}\")\n",
    "\n",
    "print(f\"\\n📊 共讀取 {len(all_dfs)} 個 CSV 檔案\")"
   ]
  },
  {
   "cell_type": "code",
   "execution_count": 10,
   "metadata": {},
   "outputs": [
    {
     "data": {
      "text/html": [
       "<div>\n",
       "<style scoped>\n",
       "    .dataframe tbody tr th:only-of-type {\n",
       "        vertical-align: middle;\n",
       "    }\n",
       "\n",
       "    .dataframe tbody tr th {\n",
       "        vertical-align: top;\n",
       "    }\n",
       "\n",
       "    .dataframe thead th {\n",
       "        text-align: right;\n",
       "    }\n",
       "</style>\n",
       "<table border=\"1\" class=\"dataframe\">\n",
       "  <thead>\n",
       "    <tr style=\"text-align: right;\">\n",
       "      <th></th>\n",
       "      <th>Timestamp</th>\n",
       "      <th>Tweet Content</th>\n",
       "      <th>sentiment</th>\n",
       "    </tr>\n",
       "  </thead>\n",
       "  <tbody>\n",
       "    <tr>\n",
       "      <th>0</th>\n",
       "      <td>2025-04-11T23:58:37.000Z</td>\n",
       "      <td>CHINA! I will pay the 125% Tariff to deliver T...</td>\n",
       "      <td>negative</td>\n",
       "    </tr>\n",
       "    <tr>\n",
       "      <th>1</th>\n",
       "      <td>2025-04-11T23:42:25.000Z</td>\n",
       "      <td>Watch as #CNN interviews these boomer aged tri...</td>\n",
       "      <td>negative</td>\n",
       "    </tr>\n",
       "    <tr>\n",
       "      <th>2</th>\n",
       "      <td>2025-04-11T23:51:26.000Z</td>\n",
       "      <td>BREAKING: Donald Trump has announced a 237% bl...</td>\n",
       "      <td>neutral</td>\n",
       "    </tr>\n",
       "    <tr>\n",
       "      <th>3</th>\n",
       "      <td>2025-04-11T23:54:11.000Z</td>\n",
       "      <td>美国财政部长回应中共国84%关税：这场升级对他们更不利\\n\\nU.S. Treasury S...</td>\n",
       "      <td>negative</td>\n",
       "    </tr>\n",
       "    <tr>\n",
       "      <th>4</th>\n",
       "      <td>2025-04-11T23:40:00.000Z</td>\n",
       "      <td>On the #onpoli podcast, \\n@spaikin\\n &amp; \\n@jm_m...</td>\n",
       "      <td>positive</td>\n",
       "    </tr>\n",
       "  </tbody>\n",
       "</table>\n",
       "</div>"
      ],
      "text/plain": [
       "                  Timestamp  \\\n",
       "0  2025-04-11T23:58:37.000Z   \n",
       "1  2025-04-11T23:42:25.000Z   \n",
       "2  2025-04-11T23:51:26.000Z   \n",
       "3  2025-04-11T23:54:11.000Z   \n",
       "4  2025-04-11T23:40:00.000Z   \n",
       "\n",
       "                                       Tweet Content sentiment  \n",
       "0  CHINA! I will pay the 125% Tariff to deliver T...  negative  \n",
       "1  Watch as #CNN interviews these boomer aged tri...  negative  \n",
       "2  BREAKING: Donald Trump has announced a 237% bl...   neutral  \n",
       "3  美国财政部长回应中共国84%关税：这场升级对他们更不利\\n\\nU.S. Treasury S...  negative  \n",
       "4  On the #onpoli podcast, \\n@spaikin\\n & \\n@jm_m...  positive  "
      ]
     },
     "execution_count": 10,
     "metadata": {},
     "output_type": "execute_result"
    }
   ],
   "source": [
    "df_all = pd.concat(all_dfs, ignore_index=True)\n",
    "df = df_all\n",
    "df.head()"
   ]
  },
  {
   "cell_type": "code",
   "execution_count": 11,
   "metadata": {},
   "outputs": [],
   "source": [
    "from sklearn.feature_extraction.text import TfidfVectorizer\n",
    "\n",
    "\n",
    "vectorizer = TfidfVectorizer(\n",
    "    max_features=5000,\n",
    "    ngram_range=(1, 2),         # 包含 unigram 與 bigram\n",
    "    stop_words='english'        # 去除英文停用詞（如 the, is, and）\n",
    ")\n",
    "\n",
    "X = vectorizer.fit_transform(df['Tweet Content'])\n"
   ]
  },
  {
   "cell_type": "code",
   "execution_count": 13,
   "metadata": {},
   "outputs": [],
   "source": [
    "sentiment_map = {\n",
    "    \"negative\": 0,\n",
    "    \"neutral\": 1,\n",
    "    \"positive\": 2\n",
    "}\n",
    "\n",
    "# === 套用映射 ===\n",
    "df[\"sentiment_label\"] = df[\"sentiment\"].map(sentiment_map)"
   ]
  },
  {
   "cell_type": "code",
   "execution_count": 15,
   "metadata": {},
   "outputs": [],
   "source": [
    "from sklearn.model_selection import train_test_split\n",
    "y = df[\"sentiment_label\"]\n",
    "X_train,X_test,y_train,y_test = train_test_split(X,y, test_size=0.2, random_state=42, stratify=df_all['sentiment'])\n"
   ]
  },
  {
   "cell_type": "code",
   "execution_count": 16,
   "metadata": {},
   "outputs": [
    {
     "name": "stdout",
     "output_type": "stream",
     "text": [
      "📋 Classification Report:\n",
      "              precision    recall  f1-score   support\n",
      "\n",
      "           0       0.70      0.85      0.77       710\n",
      "           1       0.76      0.42      0.54       299\n",
      "           2       0.69      0.66      0.68       499\n",
      "\n",
      "    accuracy                           0.70      1508\n",
      "   macro avg       0.72      0.64      0.66      1508\n",
      "weighted avg       0.71      0.70      0.69      1508\n",
      "\n"
     ]
    },
    {
     "name": "stderr",
     "output_type": "stream",
     "text": [
      "/Users/eric1026/qiskit/miniconda3/envs/qiskit/lib/python3.13/site-packages/sklearn/linear_model/_logistic.py:1247: FutureWarning: 'multi_class' was deprecated in version 1.5 and will be removed in 1.7. From then on, it will always use 'multinomial'. Leave it to its default value to avoid this warning.\n",
      "  warnings.warn(\n"
     ]
    }
   ],
   "source": [
    "from sklearn.linear_model import LogisticRegression\n",
    "from sklearn.metrics import classification_report, confusion_matrix\n",
    "model = LogisticRegression(multi_class='multinomial', solver='lbfgs', max_iter=1000)\n",
    "model.fit(X_train, y_train)\n",
    "\n",
    "y_pred = model.predict(X_test)\n",
    "\n",
    "print(\"📋 Classification Report:\")\n",
    "print(classification_report(y_test, y_pred))"
   ]
  },
  {
   "cell_type": "code",
   "execution_count": 17,
   "metadata": {},
   "outputs": [
    {
     "name": "stdout",
     "output_type": "stream",
     "text": [
      "0.7042440318302388\n"
     ]
    }
   ],
   "source": [
    "print(model.score(X_test,y_test))"
   ]
  },
  {
   "cell_type": "code",
   "execution_count": null,
   "metadata": {},
   "outputs": [],
   "source": []
  }
 ],
 "metadata": {
  "kernelspec": {
   "display_name": "qiskit",
   "language": "python",
   "name": "python3"
  },
  "language_info": {
   "codemirror_mode": {
    "name": "ipython",
    "version": 3
   },
   "file_extension": ".py",
   "mimetype": "text/x-python",
   "name": "python",
   "nbconvert_exporter": "python",
   "pygments_lexer": "ipython3",
   "version": "3.13.1"
  },
  "orig_nbformat": 4
 },
 "nbformat": 4,
 "nbformat_minor": 2
}
